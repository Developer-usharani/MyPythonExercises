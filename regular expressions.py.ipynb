{
 "cells": [
  {
   "cell_type": "code",
   "execution_count": 4,
   "id": "ad7db131",
   "metadata": {},
   "outputs": [
    {
     "data": {
      "text/plain": [
       "<re.Match object; span=(0, 6), match='inform'>"
      ]
     },
     "execution_count": 4,
     "metadata": {},
     "output_type": "execute_result"
    }
   ],
   "source": [
    "import re\n",
    "sample=\"inform him with the latest information\"\n",
    "re.match('inform',sample)"
   ]
  },
  {
   "cell_type": "code",
   "execution_count": 6,
   "id": "d99c8733",
   "metadata": {},
   "outputs": [
    {
     "name": "stdout",
     "output_type": "stream",
     "text": [
      "inform\n"
     ]
    }
   ],
   "source": [
    "import re\n",
    "sample=\"inform him with the latest information\"\n",
    "result=(re.search(pattern='inform', string= sample))\n",
    "print(result.group())"
   ]
  },
  {
   "cell_type": "code",
   "execution_count": 14,
   "id": "ac9901a7",
   "metadata": {},
   "outputs": [
    {
     "name": "stdout",
     "output_type": "stream",
     "text": [
      "['in', 'im', 'it', 'in', 'io']\n"
     ]
    }
   ],
   "source": [
    "import re \n",
    "sample = \"inform him with lastest information\"\n",
    "print(re.findall(r'i.',sample))"
   ]
  },
  {
   "cell_type": "code",
   "execution_count": 30,
   "id": "5e37b68b",
   "metadata": {},
   "outputs": [
    {
     "name": "stdout",
     "output_type": "stream",
     "text": [
      "['inf', 'im ', 'ith', 'inf', 'ion']\n"
     ]
    }
   ],
   "source": [
    "import re\n",
    "sample=\"inform him with lastest information\"\n",
    "print(re.findall(r'i..',sample))"
   ]
  },
  {
   "cell_type": "code",
   "execution_count": 40,
   "id": "796b1a47",
   "metadata": {},
   "outputs": [
    {
     "name": "stdout",
     "output_type": "stream",
     "text": [
      "['2', '3', '2', '4', '8', '1', '0', '1']\n"
     ]
    }
   ],
   "source": [
    "sample=\"Jason age is 23 anjali age is 24 sri age is 8.morris age is 101\"\n",
    "age=re.findall(r'\\d',sample)\n",
    "print(age)"
   ]
  },
  {
   "cell_type": "code",
   "execution_count": 37,
   "id": "fc0b83a4",
   "metadata": {},
   "outputs": [
    {
     "name": "stdout",
     "output_type": "stream",
     "text": [
      "['9162902346', '6729592934']\n"
     ]
    }
   ],
   "source": [
    "sample=\"+916290234643 91 6729592934+1  322533 5635 +61234(443) 5354\"\n",
    "print(re.findall(r'\\d{10}',sample))"
   ]
  },
  {
   "cell_type": "code",
   "execution_count": null,
   "id": "7ae5e26d",
   "metadata": {},
   "outputs": [],
   "source": [
    "sample = \n"
   ]
  }
 ],
 "metadata": {
  "kernelspec": {
   "display_name": "Python 3 (ipykernel)",
   "language": "python",
   "name": "python3"
  },
  "language_info": {
   "codemirror_mode": {
    "name": "ipython",
    "version": 3
   },
   "file_extension": ".py",
   "mimetype": "text/x-python",
   "name": "python",
   "nbconvert_exporter": "python",
   "pygments_lexer": "ipython3",
   "version": "3.10.1"
  }
 },
 "nbformat": 4,
 "nbformat_minor": 5
}
